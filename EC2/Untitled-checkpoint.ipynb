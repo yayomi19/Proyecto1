{
 "cells": [
  {
   "cell_type": "code",
   "execution_count": null,
   "id": "43a1233e",
   "metadata": {},
   "outputs": [],
   "source": [
    "nombre= \"Ariza\"\n",
    "\n"
   ]
  },
  {
   "cell_type": "code",
   "execution_count": null,
   "id": "24e48b21",
   "metadata": {},
   "outputs": [],
   "source": [
    "print(\"Hola, ya terminé el EC2. Saludos\" Ariza)\n"
   ]
  }
 ],
 "metadata": {
  "kernelspec": {
   "display_name": "Python 3",
   "language": "python",
   "name": "python3"
  },
  "language_info": {
   "codemirror_mode": {
    "name": "ipython",
    "version": 3
   },
   "file_extension": ".py",
   "mimetype": "text/x-python",
   "name": "python",
   "nbconvert_exporter": "python",
   "pygments_lexer": "ipython3",
   "version": "3.8.5"
  }
 },
 "nbformat": 4,
 "nbformat_minor": 5
}
